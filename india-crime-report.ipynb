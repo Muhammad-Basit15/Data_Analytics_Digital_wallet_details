{
 "cells": [
  {
   "cell_type": "code",
   "execution_count": 1,
   "id": "c9f1f0f6-3625-4f4f-8b0b-58fa4371a49a",
   "metadata": {},
   "outputs": [],
   "source": [
    "import pandas as pd\n",
    "import numpy as np\n",
    "import matplotlib.pyplot as plt\n",
    "import seaborn as sns\n",
    "#import folium as \n",
    "import mysql.connector\n",
    "from sqlalchemy import create_engine\n",
    "import pymysql"
   ]
  },
  {
   "cell_type": "code",
   "execution_count": 2,
   "id": "34a7c535-1706-4b7f-9a67-c8272bdca266",
   "metadata": {},
   "outputs": [],
   "source": [
    "db=pd.read_csv(\"practiceprojects/crime_dataset_india.csv\")"
   ]
  },
  {
   "cell_type": "code",
   "execution_count": 3,
   "id": "8297faee-9f1b-4be7-b093-f1c160b11661",
   "metadata": {},
   "outputs": [
    {
     "data": {
      "text/html": [
       "<div>\n",
       "<style scoped>\n",
       "    .dataframe tbody tr th:only-of-type {\n",
       "        vertical-align: middle;\n",
       "    }\n",
       "\n",
       "    .dataframe tbody tr th {\n",
       "        vertical-align: top;\n",
       "    }\n",
       "\n",
       "    .dataframe thead th {\n",
       "        text-align: right;\n",
       "    }\n",
       "</style>\n",
       "<table border=\"1\" class=\"dataframe\">\n",
       "  <thead>\n",
       "    <tr style=\"text-align: right;\">\n",
       "      <th></th>\n",
       "      <th>Report Number</th>\n",
       "      <th>Date Reported</th>\n",
       "      <th>Date of Occurrence</th>\n",
       "      <th>Time of Occurrence</th>\n",
       "      <th>City</th>\n",
       "      <th>Crime Code</th>\n",
       "      <th>Crime Description</th>\n",
       "      <th>Victim Age</th>\n",
       "      <th>Victim Gender</th>\n",
       "      <th>Weapon Used</th>\n",
       "      <th>Crime Domain</th>\n",
       "      <th>Police Deployed</th>\n",
       "      <th>Case Closed</th>\n",
       "      <th>Date Case Closed</th>\n",
       "    </tr>\n",
       "  </thead>\n",
       "  <tbody>\n",
       "    <tr>\n",
       "      <th>0</th>\n",
       "      <td>1</td>\n",
       "      <td>02-01-2020 00:00</td>\n",
       "      <td>01-01-2020 00:00</td>\n",
       "      <td>01-01-2020 01:11</td>\n",
       "      <td>Ahmedabad</td>\n",
       "      <td>576</td>\n",
       "      <td>IDENTITY THEFT</td>\n",
       "      <td>16</td>\n",
       "      <td>M</td>\n",
       "      <td>Blunt Object</td>\n",
       "      <td>Violent Crime</td>\n",
       "      <td>13</td>\n",
       "      <td>No</td>\n",
       "      <td>NaN</td>\n",
       "    </tr>\n",
       "    <tr>\n",
       "      <th>1</th>\n",
       "      <td>2</td>\n",
       "      <td>01-01-2020 19:00</td>\n",
       "      <td>01-01-2020 01:00</td>\n",
       "      <td>01-01-2020 06:26</td>\n",
       "      <td>Chennai</td>\n",
       "      <td>128</td>\n",
       "      <td>HOMICIDE</td>\n",
       "      <td>37</td>\n",
       "      <td>M</td>\n",
       "      <td>Poison</td>\n",
       "      <td>Other Crime</td>\n",
       "      <td>9</td>\n",
       "      <td>No</td>\n",
       "      <td>NaN</td>\n",
       "    </tr>\n",
       "    <tr>\n",
       "      <th>2</th>\n",
       "      <td>3</td>\n",
       "      <td>02-01-2020 05:00</td>\n",
       "      <td>01-01-2020 02:00</td>\n",
       "      <td>01-01-2020 14:30</td>\n",
       "      <td>Ludhiana</td>\n",
       "      <td>271</td>\n",
       "      <td>KIDNAPPING</td>\n",
       "      <td>48</td>\n",
       "      <td>F</td>\n",
       "      <td>Blunt Object</td>\n",
       "      <td>Other Crime</td>\n",
       "      <td>15</td>\n",
       "      <td>No</td>\n",
       "      <td>NaN</td>\n",
       "    </tr>\n",
       "    <tr>\n",
       "      <th>3</th>\n",
       "      <td>4</td>\n",
       "      <td>01-01-2020 05:00</td>\n",
       "      <td>01-01-2020 03:00</td>\n",
       "      <td>01-01-2020 14:46</td>\n",
       "      <td>Pune</td>\n",
       "      <td>170</td>\n",
       "      <td>BURGLARY</td>\n",
       "      <td>49</td>\n",
       "      <td>F</td>\n",
       "      <td>Firearm</td>\n",
       "      <td>Other Crime</td>\n",
       "      <td>1</td>\n",
       "      <td>Yes</td>\n",
       "      <td>29-04-2020 05:00</td>\n",
       "    </tr>\n",
       "    <tr>\n",
       "      <th>4</th>\n",
       "      <td>5</td>\n",
       "      <td>01-01-2020 21:00</td>\n",
       "      <td>01-01-2020 04:00</td>\n",
       "      <td>01-01-2020 16:51</td>\n",
       "      <td>Pune</td>\n",
       "      <td>421</td>\n",
       "      <td>VANDALISM</td>\n",
       "      <td>30</td>\n",
       "      <td>F</td>\n",
       "      <td>Other</td>\n",
       "      <td>Other Crime</td>\n",
       "      <td>18</td>\n",
       "      <td>Yes</td>\n",
       "      <td>08-01-2020 21:00</td>\n",
       "    </tr>\n",
       "  </tbody>\n",
       "</table>\n",
       "</div>"
      ],
      "text/plain": [
       "   Report Number     Date Reported Date of Occurrence Time of Occurrence  \\\n",
       "0              1  02-01-2020 00:00   01-01-2020 00:00   01-01-2020 01:11   \n",
       "1              2  01-01-2020 19:00   01-01-2020 01:00   01-01-2020 06:26   \n",
       "2              3  02-01-2020 05:00   01-01-2020 02:00   01-01-2020 14:30   \n",
       "3              4  01-01-2020 05:00   01-01-2020 03:00   01-01-2020 14:46   \n",
       "4              5  01-01-2020 21:00   01-01-2020 04:00   01-01-2020 16:51   \n",
       "\n",
       "        City  Crime Code Crime Description  Victim Age Victim Gender  \\\n",
       "0  Ahmedabad         576    IDENTITY THEFT          16             M   \n",
       "1    Chennai         128          HOMICIDE          37             M   \n",
       "2   Ludhiana         271        KIDNAPPING          48             F   \n",
       "3       Pune         170          BURGLARY          49             F   \n",
       "4       Pune         421         VANDALISM          30             F   \n",
       "\n",
       "    Weapon Used   Crime Domain  Police Deployed Case Closed  Date Case Closed  \n",
       "0  Blunt Object  Violent Crime               13          No               NaN  \n",
       "1        Poison    Other Crime                9          No               NaN  \n",
       "2  Blunt Object    Other Crime               15          No               NaN  \n",
       "3       Firearm    Other Crime                1         Yes  29-04-2020 05:00  \n",
       "4         Other    Other Crime               18         Yes  08-01-2020 21:00  "
      ]
     },
     "execution_count": 3,
     "metadata": {},
     "output_type": "execute_result"
    }
   ],
   "source": [
    "db.head()\n"
   ]
  },
  {
   "cell_type": "code",
   "execution_count": 5,
   "id": "121d2b53-fe7c-4b3d-a28b-686451d01839",
   "metadata": {},
   "outputs": [
    {
     "data": {
      "text/plain": [
       "Report Number          int64\n",
       "Date Reported         object\n",
       "Date of Occurrence    object\n",
       "Time of Occurrence    object\n",
       "City                  object\n",
       "Crime Code             int64\n",
       "Crime Description     object\n",
       "Victim Age             int64\n",
       "Victim Gender         object\n",
       "Weapon Used           object\n",
       "Crime Domain          object\n",
       "Police Deployed        int64\n",
       "Case Closed           object\n",
       "Date Case Closed      object\n",
       "dtype: object"
      ]
     },
     "execution_count": 5,
     "metadata": {},
     "output_type": "execute_result"
    }
   ],
   "source": [
    "db.dtypes\n"
   ]
  },
  {
   "cell_type": "code",
   "execution_count": 6,
   "id": "12c20cfc-2ec7-4c8a-858a-391ae1c62a97",
   "metadata": {},
   "outputs": [
    {
     "data": {
      "text/plain": [
       "Report Number             0\n",
       "Date Reported             0\n",
       "Date of Occurrence        0\n",
       "Time of Occurrence        0\n",
       "City                      0\n",
       "Crime Code                0\n",
       "Crime Description         0\n",
       "Victim Age                0\n",
       "Victim Gender             0\n",
       "Weapon Used            5790\n",
       "Crime Domain              0\n",
       "Police Deployed           0\n",
       "Case Closed               0\n",
       "Date Case Closed      20098\n",
       "dtype: int64"
      ]
     },
     "execution_count": 6,
     "metadata": {},
     "output_type": "execute_result"
    }
   ],
   "source": [
    "db.isnull().sum()"
   ]
  },
  {
   "cell_type": "code",
   "execution_count": 7,
   "id": "9bba399a-6fc3-4e89-9835-a4220dd0655a",
   "metadata": {},
   "outputs": [],
   "source": [
    "db['Date of Occurrence']=pd.to_datetime(db['Date of Occurrence'])\n",
    "db['Time of Occurrence']=pd.to_datetime(db['Time of Occurrence'],dayfirst=True)"
   ]
  },
  {
   "cell_type": "code",
   "execution_count": 11,
   "id": "14395784-9c89-4d31-b804-7448febce4dd",
   "metadata": {},
   "outputs": [],
   "source": [
    "db[\"Weapon Used\"]=db[\"Weapon Used\"].replace(np.nan,'N/A')"
   ]
  },
  {
   "cell_type": "code",
   "execution_count": 9,
   "id": "563e8f51-35ac-4445-a2c7-82de5ca64c0c",
   "metadata": {},
   "outputs": [],
   "source": [
    "db[\"Date Case Closed\"]=db[\"Date Case Closed\"].replace(np.nan,'pending')"
   ]
  },
  {
   "cell_type": "code",
   "execution_count": 12,
   "id": "363e5669-71f9-4f86-9685-09a52c924326",
   "metadata": {},
   "outputs": [
    {
     "data": {
      "text/plain": [
       "Report Number         0\n",
       "Date Reported         0\n",
       "Date of Occurrence    0\n",
       "Time of Occurrence    0\n",
       "City                  0\n",
       "Crime Code            0\n",
       "Crime Description     0\n",
       "Victim Age            0\n",
       "Victim Gender         0\n",
       "Weapon Used           0\n",
       "Crime Domain          0\n",
       "Police Deployed       0\n",
       "Case Closed           0\n",
       "Date Case Closed      0\n",
       "dtype: int64"
      ]
     },
     "execution_count": 12,
     "metadata": {},
     "output_type": "execute_result"
    }
   ],
   "source": [
    "db.isnull().sum()"
   ]
  },
  {
   "cell_type": "code",
   "execution_count": 13,
   "id": "806d330d-6b4e-480d-85a8-60399840fe67",
   "metadata": {
    "scrolled": true
   },
   "outputs": [
    {
     "data": {
      "text/plain": [
       "array(['Blunt Object', 'Poison', 'Firearm', 'Other', 'Knife',\n",
       "       'Explosives', 'N/A'], dtype=object)"
      ]
     },
     "execution_count": 13,
     "metadata": {},
     "output_type": "execute_result"
    }
   ],
   "source": [
    "db[\"Weapon Used\"].unique()"
   ]
  },
  {
   "cell_type": "code",
   "execution_count": 14,
   "id": "50f21479-cba0-43df-9f7b-264cd915befb",
   "metadata": {},
   "outputs": [],
   "source": [
    "db['Year'] = pd.to_datetime(db['Date of Occurrence']).dt.year\n",
    "db['Month'] = pd.to_datetime(db['Date of Occurrence']).dt.month"
   ]
  },
  {
   "cell_type": "code",
   "execution_count": 17,
   "id": "3e3fd5f9-ed26-4f30-b836-be03076aa104",
   "metadata": {},
   "outputs": [],
   "source": [
    "db['Date Reported']=pd.to_datetime(db['Date Reported'],dayfirst=True)"
   ]
  },
  {
   "cell_type": "code",
   "execution_count": 18,
   "id": "b433e031-0746-48f2-959c-4bf51e7df913",
   "metadata": {},
   "outputs": [],
   "source": [
    "\n",
    "db['days_gap_report/accur and'] = (db['Date Reported'] - db['Date of Occurrence']).dt.days"
   ]
  },
  {
   "cell_type": "code",
   "execution_count": 19,
   "id": "1d22f594-3054-4fae-8853-0a8457da2c1c",
   "metadata": {},
   "outputs": [
    {
     "data": {
      "text/html": [
       "<div>\n",
       "<style scoped>\n",
       "    .dataframe tbody tr th:only-of-type {\n",
       "        vertical-align: middle;\n",
       "    }\n",
       "\n",
       "    .dataframe tbody tr th {\n",
       "        vertical-align: top;\n",
       "    }\n",
       "\n",
       "    .dataframe thead th {\n",
       "        text-align: right;\n",
       "    }\n",
       "</style>\n",
       "<table border=\"1\" class=\"dataframe\">\n",
       "  <thead>\n",
       "    <tr style=\"text-align: right;\">\n",
       "      <th></th>\n",
       "      <th>Report Number</th>\n",
       "      <th>Date Reported</th>\n",
       "      <th>Date of Occurrence</th>\n",
       "      <th>Time of Occurrence</th>\n",
       "      <th>City</th>\n",
       "      <th>Crime Code</th>\n",
       "      <th>Crime Description</th>\n",
       "      <th>Victim Age</th>\n",
       "      <th>Victim Gender</th>\n",
       "      <th>Weapon Used</th>\n",
       "      <th>Crime Domain</th>\n",
       "      <th>Police Deployed</th>\n",
       "      <th>Case Closed</th>\n",
       "      <th>Date Case Closed</th>\n",
       "      <th>Year</th>\n",
       "      <th>Month</th>\n",
       "      <th>days_gap_report/accur and</th>\n",
       "    </tr>\n",
       "  </thead>\n",
       "  <tbody>\n",
       "    <tr>\n",
       "      <th>0</th>\n",
       "      <td>1</td>\n",
       "      <td>2020-01-02 00:00:00</td>\n",
       "      <td>2020-01-01 00:00:00</td>\n",
       "      <td>2020-01-01 01:11:00</td>\n",
       "      <td>Ahmedabad</td>\n",
       "      <td>576</td>\n",
       "      <td>IDENTITY THEFT</td>\n",
       "      <td>16</td>\n",
       "      <td>M</td>\n",
       "      <td>Blunt Object</td>\n",
       "      <td>Violent Crime</td>\n",
       "      <td>13</td>\n",
       "      <td>No</td>\n",
       "      <td>pending</td>\n",
       "      <td>2020</td>\n",
       "      <td>1</td>\n",
       "      <td>1</td>\n",
       "    </tr>\n",
       "    <tr>\n",
       "      <th>1</th>\n",
       "      <td>2</td>\n",
       "      <td>2020-01-01 19:00:00</td>\n",
       "      <td>2020-01-01 01:00:00</td>\n",
       "      <td>2020-01-01 06:26:00</td>\n",
       "      <td>Chennai</td>\n",
       "      <td>128</td>\n",
       "      <td>HOMICIDE</td>\n",
       "      <td>37</td>\n",
       "      <td>M</td>\n",
       "      <td>Poison</td>\n",
       "      <td>Other Crime</td>\n",
       "      <td>9</td>\n",
       "      <td>No</td>\n",
       "      <td>pending</td>\n",
       "      <td>2020</td>\n",
       "      <td>1</td>\n",
       "      <td>0</td>\n",
       "    </tr>\n",
       "    <tr>\n",
       "      <th>2</th>\n",
       "      <td>3</td>\n",
       "      <td>2020-01-02 05:00:00</td>\n",
       "      <td>2020-01-01 02:00:00</td>\n",
       "      <td>2020-01-01 14:30:00</td>\n",
       "      <td>Ludhiana</td>\n",
       "      <td>271</td>\n",
       "      <td>KIDNAPPING</td>\n",
       "      <td>48</td>\n",
       "      <td>F</td>\n",
       "      <td>Blunt Object</td>\n",
       "      <td>Other Crime</td>\n",
       "      <td>15</td>\n",
       "      <td>No</td>\n",
       "      <td>pending</td>\n",
       "      <td>2020</td>\n",
       "      <td>1</td>\n",
       "      <td>1</td>\n",
       "    </tr>\n",
       "    <tr>\n",
       "      <th>3</th>\n",
       "      <td>4</td>\n",
       "      <td>2020-01-01 05:00:00</td>\n",
       "      <td>2020-01-01 03:00:00</td>\n",
       "      <td>2020-01-01 14:46:00</td>\n",
       "      <td>Pune</td>\n",
       "      <td>170</td>\n",
       "      <td>BURGLARY</td>\n",
       "      <td>49</td>\n",
       "      <td>F</td>\n",
       "      <td>Firearm</td>\n",
       "      <td>Other Crime</td>\n",
       "      <td>1</td>\n",
       "      <td>Yes</td>\n",
       "      <td>29-04-2020 05:00</td>\n",
       "      <td>2020</td>\n",
       "      <td>1</td>\n",
       "      <td>0</td>\n",
       "    </tr>\n",
       "    <tr>\n",
       "      <th>4</th>\n",
       "      <td>5</td>\n",
       "      <td>2020-01-01 21:00:00</td>\n",
       "      <td>2020-01-01 04:00:00</td>\n",
       "      <td>2020-01-01 16:51:00</td>\n",
       "      <td>Pune</td>\n",
       "      <td>421</td>\n",
       "      <td>VANDALISM</td>\n",
       "      <td>30</td>\n",
       "      <td>F</td>\n",
       "      <td>Other</td>\n",
       "      <td>Other Crime</td>\n",
       "      <td>18</td>\n",
       "      <td>Yes</td>\n",
       "      <td>08-01-2020 21:00</td>\n",
       "      <td>2020</td>\n",
       "      <td>1</td>\n",
       "      <td>0</td>\n",
       "    </tr>\n",
       "  </tbody>\n",
       "</table>\n",
       "</div>"
      ],
      "text/plain": [
       "   Report Number       Date Reported  Date of Occurrence  Time of Occurrence  \\\n",
       "0              1 2020-01-02 00:00:00 2020-01-01 00:00:00 2020-01-01 01:11:00   \n",
       "1              2 2020-01-01 19:00:00 2020-01-01 01:00:00 2020-01-01 06:26:00   \n",
       "2              3 2020-01-02 05:00:00 2020-01-01 02:00:00 2020-01-01 14:30:00   \n",
       "3              4 2020-01-01 05:00:00 2020-01-01 03:00:00 2020-01-01 14:46:00   \n",
       "4              5 2020-01-01 21:00:00 2020-01-01 04:00:00 2020-01-01 16:51:00   \n",
       "\n",
       "        City  Crime Code Crime Description  Victim Age Victim Gender  \\\n",
       "0  Ahmedabad         576    IDENTITY THEFT          16             M   \n",
       "1    Chennai         128          HOMICIDE          37             M   \n",
       "2   Ludhiana         271        KIDNAPPING          48             F   \n",
       "3       Pune         170          BURGLARY          49             F   \n",
       "4       Pune         421         VANDALISM          30             F   \n",
       "\n",
       "    Weapon Used   Crime Domain  Police Deployed Case Closed  Date Case Closed  \\\n",
       "0  Blunt Object  Violent Crime               13          No           pending   \n",
       "1        Poison    Other Crime                9          No           pending   \n",
       "2  Blunt Object    Other Crime               15          No           pending   \n",
       "3       Firearm    Other Crime                1         Yes  29-04-2020 05:00   \n",
       "4         Other    Other Crime               18         Yes  08-01-2020 21:00   \n",
       "\n",
       "   Year  Month  days_gap_report/accur and  \n",
       "0  2020      1                          1  \n",
       "1  2020      1                          0  \n",
       "2  2020      1                          1  \n",
       "3  2020      1                          0  \n",
       "4  2020      1                          0  "
      ]
     },
     "execution_count": 19,
     "metadata": {},
     "output_type": "execute_result"
    }
   ],
   "source": [
    "db.head()"
   ]
  },
  {
   "cell_type": "code",
   "execution_count": 20,
   "id": "778db666-b4dd-4372-9a96-9f52928dc2ec",
   "metadata": {},
   "outputs": [],
   "source": [
    "db.to_csv('india_crime_details.csv', index=False)\n"
   ]
  },
  {
   "cell_type": "code",
   "execution_count": null,
   "id": "6d35ef12-1f3f-4968-842c-8b5fb0ff78e5",
   "metadata": {},
   "outputs": [],
   "source": []
  }
 ],
 "metadata": {
  "kernelspec": {
   "display_name": "Python 3 (ipykernel)",
   "language": "python",
   "name": "python3"
  },
  "language_info": {
   "codemirror_mode": {
    "name": "ipython",
    "version": 3
   },
   "file_extension": ".py",
   "mimetype": "text/x-python",
   "name": "python",
   "nbconvert_exporter": "python",
   "pygments_lexer": "ipython3",
   "version": "3.12.4"
  }
 },
 "nbformat": 4,
 "nbformat_minor": 5
}
